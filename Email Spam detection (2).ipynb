{
 "cells": [
  {
   "cell_type": "markdown",
   "id": "f3fc5126",
   "metadata": {},
   "source": [
    "### Importing Libreries"
   ]
  },
  {
   "cell_type": "code",
   "execution_count": 1,
   "id": "139dabd2",
   "metadata": {},
   "outputs": [],
   "source": [
    "import pandas as pd\n",
    "import numpy as np\n",
    "import matplotlib.pyplot as plt\n",
    "import seaborn as sns\n",
    "import warnings\n",
    "warnings.filterwarnings('ignore')"
   ]
  },
  {
   "cell_type": "markdown",
   "id": "05b3df56",
   "metadata": {},
   "source": [
    "**Loading dataset**"
   ]
  },
  {
   "cell_type": "code",
   "execution_count": 2,
   "id": "21210024",
   "metadata": {},
   "outputs": [],
   "source": [
    "email = pd.read_csv(r\"C:\\Users\\Vikas\\OneDrive\\Desktop\\CipherByte\\Spam Email Detection - spam.csv\")"
   ]
  },
  {
   "cell_type": "markdown",
   "id": "1915c953",
   "metadata": {},
   "source": [
    "**Reading top 5 rows**"
   ]
  },
  {
   "cell_type": "code",
   "execution_count": 3,
   "id": "48da4cdb",
   "metadata": {},
   "outputs": [
    {
     "data": {
      "text/html": [
       "<div>\n",
       "<style scoped>\n",
       "    .dataframe tbody tr th:only-of-type {\n",
       "        vertical-align: middle;\n",
       "    }\n",
       "\n",
       "    .dataframe tbody tr th {\n",
       "        vertical-align: top;\n",
       "    }\n",
       "\n",
       "    .dataframe thead th {\n",
       "        text-align: right;\n",
       "    }\n",
       "</style>\n",
       "<table border=\"1\" class=\"dataframe\">\n",
       "  <thead>\n",
       "    <tr style=\"text-align: right;\">\n",
       "      <th></th>\n",
       "      <th>v1</th>\n",
       "      <th>v2</th>\n",
       "      <th>Unnamed: 2</th>\n",
       "      <th>Unnamed: 3</th>\n",
       "      <th>Unnamed: 4</th>\n",
       "    </tr>\n",
       "  </thead>\n",
       "  <tbody>\n",
       "    <tr>\n",
       "      <th>0</th>\n",
       "      <td>ham</td>\n",
       "      <td>Go until jurong point, crazy.. Available only ...</td>\n",
       "      <td>NaN</td>\n",
       "      <td>NaN</td>\n",
       "      <td>NaN</td>\n",
       "    </tr>\n",
       "    <tr>\n",
       "      <th>1</th>\n",
       "      <td>ham</td>\n",
       "      <td>Ok lar... Joking wif u oni...</td>\n",
       "      <td>NaN</td>\n",
       "      <td>NaN</td>\n",
       "      <td>NaN</td>\n",
       "    </tr>\n",
       "    <tr>\n",
       "      <th>2</th>\n",
       "      <td>spam</td>\n",
       "      <td>Free entry in 2 a wkly comp to win FA Cup fina...</td>\n",
       "      <td>NaN</td>\n",
       "      <td>NaN</td>\n",
       "      <td>NaN</td>\n",
       "    </tr>\n",
       "    <tr>\n",
       "      <th>3</th>\n",
       "      <td>ham</td>\n",
       "      <td>U dun say so early hor... U c already then say...</td>\n",
       "      <td>NaN</td>\n",
       "      <td>NaN</td>\n",
       "      <td>NaN</td>\n",
       "    </tr>\n",
       "    <tr>\n",
       "      <th>4</th>\n",
       "      <td>ham</td>\n",
       "      <td>Nah I don't think he goes to usf, he lives aro...</td>\n",
       "      <td>NaN</td>\n",
       "      <td>NaN</td>\n",
       "      <td>NaN</td>\n",
       "    </tr>\n",
       "  </tbody>\n",
       "</table>\n",
       "</div>"
      ],
      "text/plain": [
       "     v1                                                 v2 Unnamed: 2  \\\n",
       "0   ham  Go until jurong point, crazy.. Available only ...        NaN   \n",
       "1   ham                      Ok lar... Joking wif u oni...        NaN   \n",
       "2  spam  Free entry in 2 a wkly comp to win FA Cup fina...        NaN   \n",
       "3   ham  U dun say so early hor... U c already then say...        NaN   \n",
       "4   ham  Nah I don't think he goes to usf, he lives aro...        NaN   \n",
       "\n",
       "  Unnamed: 3 Unnamed: 4  \n",
       "0        NaN        NaN  \n",
       "1        NaN        NaN  \n",
       "2        NaN        NaN  \n",
       "3        NaN        NaN  \n",
       "4        NaN        NaN  "
      ]
     },
     "execution_count": 3,
     "metadata": {},
     "output_type": "execute_result"
    }
   ],
   "source": [
    "email.head()"
   ]
  },
  {
   "cell_type": "markdown",
   "id": "ab9293db",
   "metadata": {},
   "source": [
    "### Data Cleaning"
   ]
  },
  {
   "cell_type": "markdown",
   "id": "4a0166d0",
   "metadata": {},
   "source": [
    "**Droping all Unnamed Columns**"
   ]
  },
  {
   "cell_type": "code",
   "execution_count": 4,
   "id": "2ea7a17f",
   "metadata": {},
   "outputs": [],
   "source": [
    "email = email.drop(['Unnamed: 2','Unnamed: 3','Unnamed: 4'], axis = 1)"
   ]
  },
  {
   "cell_type": "code",
   "execution_count": 5,
   "id": "1fcf5890",
   "metadata": {},
   "outputs": [
    {
     "data": {
      "text/html": [
       "<div>\n",
       "<style scoped>\n",
       "    .dataframe tbody tr th:only-of-type {\n",
       "        vertical-align: middle;\n",
       "    }\n",
       "\n",
       "    .dataframe tbody tr th {\n",
       "        vertical-align: top;\n",
       "    }\n",
       "\n",
       "    .dataframe thead th {\n",
       "        text-align: right;\n",
       "    }\n",
       "</style>\n",
       "<table border=\"1\" class=\"dataframe\">\n",
       "  <thead>\n",
       "    <tr style=\"text-align: right;\">\n",
       "      <th></th>\n",
       "      <th>v1</th>\n",
       "      <th>v2</th>\n",
       "    </tr>\n",
       "  </thead>\n",
       "  <tbody>\n",
       "    <tr>\n",
       "      <th>0</th>\n",
       "      <td>ham</td>\n",
       "      <td>Go until jurong point, crazy.. Available only ...</td>\n",
       "    </tr>\n",
       "    <tr>\n",
       "      <th>1</th>\n",
       "      <td>ham</td>\n",
       "      <td>Ok lar... Joking wif u oni...</td>\n",
       "    </tr>\n",
       "    <tr>\n",
       "      <th>2</th>\n",
       "      <td>spam</td>\n",
       "      <td>Free entry in 2 a wkly comp to win FA Cup fina...</td>\n",
       "    </tr>\n",
       "    <tr>\n",
       "      <th>3</th>\n",
       "      <td>ham</td>\n",
       "      <td>U dun say so early hor... U c already then say...</td>\n",
       "    </tr>\n",
       "    <tr>\n",
       "      <th>4</th>\n",
       "      <td>ham</td>\n",
       "      <td>Nah I don't think he goes to usf, he lives aro...</td>\n",
       "    </tr>\n",
       "  </tbody>\n",
       "</table>\n",
       "</div>"
      ],
      "text/plain": [
       "     v1                                                 v2\n",
       "0   ham  Go until jurong point, crazy.. Available only ...\n",
       "1   ham                      Ok lar... Joking wif u oni...\n",
       "2  spam  Free entry in 2 a wkly comp to win FA Cup fina...\n",
       "3   ham  U dun say so early hor... U c already then say...\n",
       "4   ham  Nah I don't think he goes to usf, he lives aro..."
      ]
     },
     "execution_count": 5,
     "metadata": {},
     "output_type": "execute_result"
    }
   ],
   "source": [
    "email.head()"
   ]
  },
  {
   "cell_type": "code",
   "execution_count": 6,
   "id": "c6909cce",
   "metadata": {},
   "outputs": [
    {
     "name": "stdout",
     "output_type": "stream",
     "text": [
      "<class 'pandas.core.frame.DataFrame'>\n",
      "RangeIndex: 5572 entries, 0 to 5571\n",
      "Data columns (total 2 columns):\n",
      " #   Column  Non-Null Count  Dtype \n",
      "---  ------  --------------  ----- \n",
      " 0   v1      5572 non-null   object\n",
      " 1   v2      5572 non-null   object\n",
      "dtypes: object(2)\n",
      "memory usage: 87.2+ KB\n"
     ]
    }
   ],
   "source": [
    "email.info()"
   ]
  },
  {
   "cell_type": "code",
   "execution_count": 7,
   "id": "b60f086a",
   "metadata": {},
   "outputs": [
    {
     "data": {
      "text/plain": [
       "409"
      ]
     },
     "execution_count": 7,
     "metadata": {},
     "output_type": "execute_result"
    }
   ],
   "source": [
    "email.duplicated().sum()"
   ]
  },
  {
   "cell_type": "code",
   "execution_count": 8,
   "id": "b1ac657d",
   "metadata": {},
   "outputs": [],
   "source": [
    "email = email.drop_duplicates()"
   ]
  },
  {
   "cell_type": "code",
   "execution_count": 9,
   "id": "d5308e93",
   "metadata": {},
   "outputs": [
    {
     "data": {
      "text/plain": [
       "0"
      ]
     },
     "execution_count": 9,
     "metadata": {},
     "output_type": "execute_result"
    }
   ],
   "source": [
    "email.duplicated().sum()"
   ]
  },
  {
   "cell_type": "code",
   "execution_count": 10,
   "id": "bfdf0593",
   "metadata": {},
   "outputs": [
    {
     "data": {
      "text/plain": [
       "v1    0\n",
       "v2    0\n",
       "dtype: int64"
      ]
     },
     "execution_count": 10,
     "metadata": {},
     "output_type": "execute_result"
    }
   ],
   "source": [
    "email.isnull().sum()"
   ]
  },
  {
   "cell_type": "code",
   "execution_count": 11,
   "id": "46896fd9",
   "metadata": {},
   "outputs": [
    {
     "data": {
      "text/plain": [
       "(5163, 2)"
      ]
     },
     "execution_count": 11,
     "metadata": {},
     "output_type": "execute_result"
    }
   ],
   "source": [
    "email.shape"
   ]
  },
  {
   "cell_type": "markdown",
   "id": "fc5f35e6",
   "metadata": {},
   "source": [
    "**Changing Column name**"
   ]
  },
  {
   "cell_type": "code",
   "execution_count": 12,
   "id": "9ceafc92",
   "metadata": {},
   "outputs": [],
   "source": [
    "email = email.rename(columns = {'v1':'Category','v2':'Message'})"
   ]
  },
  {
   "cell_type": "code",
   "execution_count": 13,
   "id": "1e9750cd",
   "metadata": {},
   "outputs": [
    {
     "data": {
      "text/plain": [
       "Index(['Category', 'Message'], dtype='object')"
      ]
     },
     "execution_count": 13,
     "metadata": {},
     "output_type": "execute_result"
    }
   ],
   "source": [
    "email.columns"
   ]
  },
  {
   "cell_type": "code",
   "execution_count": 14,
   "id": "630d708c",
   "metadata": {},
   "outputs": [
    {
     "data": {
      "text/plain": [
       "ham     4516\n",
       "spam     647\n",
       "Name: Category, dtype: int64"
      ]
     },
     "execution_count": 14,
     "metadata": {},
     "output_type": "execute_result"
    }
   ],
   "source": [
    "email['Category'].value_counts()"
   ]
  },
  {
   "cell_type": "code",
   "execution_count": 15,
   "id": "6eb6ca15",
   "metadata": {},
   "outputs": [
    {
     "data": {
      "image/png": "[encoded data removed]",
      "text/plain": [
       "<Figure size 1000x600 with 2 Axes>"
      ]
     },
     "metadata": {},
     "output_type": "display_data"
    }
   ],
   "source": [
    "plt.figure(figsize = (10,6))\n",
    "plt.subplot(1,2,1)\n",
    "ax = sns.countplot(email['Category'])\n",
    "for bars in ax.containers:\n",
    "    ax.bar_label(bars)\n",
    "plt.title('Category Distribution')\n",
    "    \n",
    "plt.subplot(1,2,2)\n",
    "plt.pie(email['Category'].value_counts(), autopct='%.2f%%', labels=email['Category'].value_counts().index)\n",
    "plt.title('Category Distribution in %')\n",
    "plt.show()"
   ]
  },
  {
   "cell_type": "code",
   "execution_count": 16,
   "id": "cb48abf0",
   "metadata": {},
   "outputs": [
    {
     "data": {
      "text/html": [
       "<div>\n",
       "<style scoped>\n",
       "    .dataframe tbody tr th:only-of-type {\n",
       "        vertical-align: middle;\n",
       "    }\n",
       "\n",
       "    .dataframe tbody tr th {\n",
       "        vertical-align: top;\n",
       "    }\n",
       "\n",
       "    .dataframe thead th {\n",
       "        text-align: right;\n",
       "    }\n",
       "</style>\n",
       "<table border=\"1\" class=\"dataframe\">\n",
       "  <thead>\n",
       "    <tr style=\"text-align: right;\">\n",
       "      <th></th>\n",
       "      <th>Category</th>\n",
       "      <th>Message</th>\n",
       "    </tr>\n",
       "  </thead>\n",
       "  <tbody>\n",
       "    <tr>\n",
       "      <th>count</th>\n",
       "      <td>5163</td>\n",
       "      <td>5163</td>\n",
       "    </tr>\n",
       "    <tr>\n",
       "      <th>unique</th>\n",
       "      <td>2</td>\n",
       "      <td>5163</td>\n",
       "    </tr>\n",
       "    <tr>\n",
       "      <th>top</th>\n",
       "      <td>ham</td>\n",
       "      <td>Go until jurong point, crazy.. Available only ...</td>\n",
       "    </tr>\n",
       "    <tr>\n",
       "      <th>freq</th>\n",
       "      <td>4516</td>\n",
       "      <td>1</td>\n",
       "    </tr>\n",
       "  </tbody>\n",
       "</table>\n",
       "</div>"
      ],
      "text/plain": [
       "       Category                                            Message\n",
       "count      5163                                               5163\n",
       "unique        2                                               5163\n",
       "top         ham  Go until jurong point, crazy.. Available only ...\n",
       "freq       4516                                                  1"
      ]
     },
     "execution_count": 16,
     "metadata": {},
     "output_type": "execute_result"
    }
   ],
   "source": [
    "#Descriptive Summary of the dataset\n",
    "email.describe()"
   ]
  },
  {
   "cell_type": "markdown",
   "id": "6bb14dde",
   "metadata": {},
   "source": [
    "# Encoding"
   ]
  },
  {
   "cell_type": "markdown",
   "id": "9cf2bcb9",
   "metadata": {},
   "source": [
    "**Converting ham as a 0 and spam as a 1**"
   ]
  },
  {
   "cell_type": "code",
   "execution_count": 17,
   "id": "d97da0bd",
   "metadata": {},
   "outputs": [],
   "source": [
    "email['Category'] = email['Category'].replace({'ham':0,'spam':1})"
   ]
  },
  {
   "cell_type": "markdown",
   "id": "97b17dc3",
   "metadata": {},
   "source": [
    "**Spreading data into X & y**"
   ]
  },
  {
   "cell_type": "code",
   "execution_count": 18,
   "id": "e2309a32",
   "metadata": {},
   "outputs": [],
   "source": [
    "X = email['Message']\n",
    "y = email['Category']"
   ]
  },
  {
   "cell_type": "markdown",
   "id": "3d7664ef",
   "metadata": {},
   "source": [
    "**Spliting the data into Training & Testing (80:20)% ratio**"
   ]
  },
  {
   "cell_type": "code",
   "execution_count": 19,
   "id": "6d2e4d7c",
   "metadata": {},
   "outputs": [],
   "source": [
    "from sklearn.model_selection import train_test_split"
   ]
  },
  {
   "cell_type": "code",
   "execution_count": 20,
   "id": "14d59db1",
   "metadata": {},
   "outputs": [],
   "source": [
    "X_train, X_test, y_train, y_test = train_test_split(X,y, test_size=0.2, random_state=12)"
   ]
  },
  {
   "cell_type": "code",
   "execution_count": 21,
   "id": "8234c44b",
   "metadata": {},
   "outputs": [
    {
     "name": "stdout",
     "output_type": "stream",
     "text": [
      "(4130,) (1033,)\n"
     ]
    }
   ],
   "source": [
    "print(X_train.shape,X_test.shape)"
   ]
  },
  {
   "cell_type": "code",
   "execution_count": 22,
   "id": "b0209fe5",
   "metadata": {},
   "outputs": [
    {
     "name": "stdout",
     "output_type": "stream",
     "text": [
      "(4130,) (1033,)\n"
     ]
    }
   ],
   "source": [
    "print(y_train.shape,y_test.shape)"
   ]
  },
  {
   "cell_type": "markdown",
   "id": "7807d086",
   "metadata": {},
   "source": [
    "**Feature Extraction**"
   ]
  },
  {
   "cell_type": "code",
   "execution_count": 23,
   "id": "883d828a",
   "metadata": {},
   "outputs": [],
   "source": [
    "from sklearn.feature_extraction.text import TfidfVectorizer"
   ]
  },
  {
   "cell_type": "code",
   "execution_count": 24,
   "id": "e035a454",
   "metadata": {},
   "outputs": [],
   "source": [
    "feature_extraction=TfidfVectorizer(min_df=1,stop_words='english',lowercase=True)\n",
    "\n",
    "X_train_feature=feature_extraction.fit_transform(X_train)\n",
    "\n",
    "X_test_feature=feature_extraction.transform(X_test)"
   ]
  },
  {
   "cell_type": "code",
   "execution_count": 25,
   "id": "1b8e94bc",
   "metadata": {},
   "outputs": [
    {
     "name": "stdout",
     "output_type": "stream",
     "text": [
      "  (0, 2275)\t0.5678711631491277\n",
      "  (0, 2926)\t0.5958562612973985\n",
      "  (0, 1429)\t0.5678711631491277\n",
      "  (1, 4641)\t0.23272978821640422\n",
      "  (1, 6462)\t0.3843118763734655\n",
      "  (1, 4121)\t0.40325104123652306\n",
      "  (1, 4851)\t0.40325104123652306\n",
      "  (1, 1093)\t0.40325104123652306\n",
      "  (1, 7208)\t0.40325104123652306\n",
      "  (1, 2513)\t0.3843118763734655\n",
      "  (2, 21)\t0.5872602508203881\n",
      "  (2, 6587)\t0.29402226212143834\n",
      "  (2, 6408)\t0.39453362209078535\n",
      "  (2, 3904)\t0.3515068798238112\n",
      "  (2, 4322)\t0.43062910150480166\n",
      "  (2, 6045)\t0.32252289623682295\n",
      "  (3, 4146)\t0.8777979174884418\n",
      "  (3, 3029)\t0.47903112221749694\n",
      "  (4, 1877)\t0.49618585953403027\n",
      "  (4, 7064)\t0.35290810594148114\n",
      "  (4, 4790)\t0.5609168661928753\n",
      "  (4, 6194)\t0.5609168661928753\n",
      "  (5, 6567)\t0.312350357681148\n",
      "  (5, 3443)\t0.3222737698903717\n",
      "  (5, 4651)\t0.3350672733249521\n",
      "  :\t:\n",
      "  (4127, 6625)\t0.253533103370992\n",
      "  (4127, 6538)\t0.2610994675835094\n",
      "  (4127, 2408)\t0.33163615996189844\n",
      "  (4128, 4507)\t0.6579946951262893\n",
      "  (4128, 4989)\t0.6445326042958601\n",
      "  (4128, 5748)\t0.389385032050871\n",
      "  (4129, 4265)\t0.3592225253270948\n",
      "  (4129, 6915)\t0.1796112626635474\n",
      "  (4129, 4796)\t0.1796112626635474\n",
      "  (4129, 2419)\t0.1796112626635474\n",
      "  (4129, 1274)\t0.1796112626635474\n",
      "  (4129, 3161)\t0.1796112626635474\n",
      "  (4129, 866)\t0.3592225253270948\n",
      "  (4129, 4085)\t0.3592225253270948\n",
      "  (4129, 4455)\t0.1796112626635474\n",
      "  (4129, 3519)\t0.1796112626635474\n",
      "  (4129, 1043)\t0.1796112626635474\n",
      "  (4129, 4086)\t0.3592225253270948\n",
      "  (4129, 7295)\t0.1796112626635474\n",
      "  (4129, 3726)\t0.17117560604523843\n",
      "  (4129, 4178)\t0.16519041242458454\n",
      "  (4129, 4634)\t0.13508742341151347\n",
      "  (4129, 1693)\t0.27017484682302695\n",
      "  (4129, 1457)\t0.12791305532834982\n",
      "  (4129, 5204)\t0.17117560604523843\n"
     ]
    }
   ],
   "source": [
    "print(X_train_feature)"
   ]
  },
  {
   "cell_type": "code",
   "execution_count": 26,
   "id": "1e37731c",
   "metadata": {},
   "outputs": [
    {
     "name": "stdout",
     "output_type": "stream",
     "text": [
      "  (0, 7169)\t0.5306430559824854\n",
      "  (0, 5539)\t0.48344166396799687\n",
      "  (0, 2568)\t0.6962055046302229\n",
      "  (1, 7305)\t0.2256437120723279\n",
      "  (1, 6258)\t0.3167970051834957\n",
      "  (1, 5807)\t0.3836344100022317\n",
      "  (1, 5625)\t0.31211504968570924\n",
      "  (1, 5323)\t0.352832698065501\n",
      "  (1, 4863)\t0.30045624370154356\n",
      "  (1, 4524)\t0.1981351714482904\n",
      "  (1, 4068)\t0.18245667970650484\n",
      "  (1, 3697)\t0.1645189730114099\n",
      "  (1, 3504)\t0.30401313968776766\n",
      "  (1, 3118)\t0.18269753383034812\n",
      "  (1, 2372)\t0.2813133377489786\n",
      "  (1, 1636)\t0.29122927419203964\n",
      "  (2, 4561)\t0.7388984024413582\n",
      "  (2, 1814)\t0.36492292278067273\n",
      "  (2, 1389)\t0.5664454177578101\n",
      "  (3, 3906)\t0.8130137675238901\n",
      "  (3, 1561)\t0.5822444622464089\n",
      "  (4, 7239)\t0.2122098166739925\n",
      "  (4, 5710)\t0.2062364695602675\n",
      "  (4, 5677)\t0.18844070762942228\n",
      "  (4, 5539)\t0.1557384113200132\n",
      "  :\t:\n",
      "  (1030, 1762)\t0.24934675108968193\n",
      "  (1031, 7264)\t0.16148754577159824\n",
      "  (1031, 7180)\t0.19257113078608845\n",
      "  (1031, 7152)\t0.17854983432743968\n",
      "  (1031, 7090)\t0.15793101442520793\n",
      "  (1031, 6767)\t0.14500655178261151\n",
      "  (1031, 6741)\t0.22478460451088303\n",
      "  (1031, 6501)\t0.5444187143067742\n",
      "  (1031, 4537)\t0.20664291691561626\n",
      "  (1031, 3567)\t0.2284983969948732\n",
      "  (1031, 2853)\t0.13565790184667934\n",
      "  (1031, 2498)\t0.20664291691561626\n",
      "  (1031, 2031)\t0.23270874765821015\n",
      "  (1031, 2000)\t0.18381718204508446\n",
      "  (1031, 1634)\t0.19133447060906325\n",
      "  (1031, 1588)\t0.1649669074899718\n",
      "  (1031, 466)\t0.24331798400936627\n",
      "  (1031, 359)\t0.20473137453099421\n",
      "  (1031, 326)\t0.20122434208445025\n",
      "  (1031, 105)\t0.25035387707413015\n",
      "  (1032, 5942)\t0.46446853439470576\n",
      "  (1032, 4076)\t0.38965021191754307\n",
      "  (1032, 3029)\t0.2969180734571773\n",
      "  (1032, 1250)\t0.5440858734582456\n",
      "  (1032, 1101)\t0.4982488463283222\n"
     ]
    }
   ],
   "source": [
    "print(X_test_feature)"
   ]
  },
  {
   "cell_type": "markdown",
   "id": "d8dec902",
   "metadata": {},
   "source": [
    "### Logistic Regression"
   ]
  },
  {
   "cell_type": "code",
   "execution_count": 27,
   "id": "70c5f830",
   "metadata": {},
   "outputs": [],
   "source": [
    "from sklearn.linear_model import LogisticRegression"
   ]
  },
  {
   "cell_type": "code",
   "execution_count": 28,
   "id": "b4d0c0f2",
   "metadata": {},
   "outputs": [],
   "source": [
    "lr = LogisticRegression()"
   ]
  },
  {
   "cell_type": "code",
   "execution_count": 29,
   "id": "3a61915b",
   "metadata": {},
   "outputs": [
    {
     "data": {
      "text/plain": [
       "LogisticRegression()"
      ]
     },
     "execution_count": 29,
     "metadata": {},
     "output_type": "execute_result"
    }
   ],
   "source": [
    "lr.fit(X_train_feature,y_train)"
   ]
  },
  {
   "cell_type": "markdown",
   "id": "557717f2",
   "metadata": {},
   "source": [
    "**Model Evalution**"
   ]
  },
  {
   "cell_type": "code",
   "execution_count": 30,
   "id": "d351c5d5",
   "metadata": {},
   "outputs": [],
   "source": [
    "y_pred = lr.predict(X_test_feature)"
   ]
  },
  {
   "cell_type": "code",
   "execution_count": 31,
   "id": "e17dd54e",
   "metadata": {},
   "outputs": [],
   "source": [
    "from sklearn.metrics import accuracy_score, confusion_matrix,classification_report"
   ]
  },
  {
   "cell_type": "code",
   "execution_count": 32,
   "id": "9c22c3af",
   "metadata": {},
   "outputs": [],
   "source": [
    "accuracy = accuracy_score(y_pred, y_test)"
   ]
  },
  {
   "cell_type": "code",
   "execution_count": 33,
   "id": "40252b52",
   "metadata": {},
   "outputs": [
    {
     "data": {
      "text/plain": [
       "0.9515972894482091"
      ]
     },
     "execution_count": 33,
     "metadata": {},
     "output_type": "execute_result"
    }
   ],
   "source": [
    "accuracy"
   ]
  },
  {
   "cell_type": "code",
   "execution_count": 34,
   "id": "e40230c9",
   "metadata": {},
   "outputs": [
    {
     "name": "stdout",
     "output_type": "stream",
     "text": [
      "[[899  49]\n",
      " [  1  84]]\n"
     ]
    }
   ],
   "source": [
    "print(confusion_matrix(y_pred, y_test))"
   ]
  },
  {
   "cell_type": "code",
   "execution_count": 35,
   "id": "a2e81b14",
   "metadata": {},
   "outputs": [
    {
     "name": "stdout",
     "output_type": "stream",
     "text": [
      "              precision    recall  f1-score   support\n",
      "\n",
      "           0       1.00      0.95      0.97       948\n",
      "           1       0.63      0.99      0.77        85\n",
      "\n",
      "    accuracy                           0.95      1033\n",
      "   macro avg       0.82      0.97      0.87      1033\n",
      "weighted avg       0.97      0.95      0.96      1033\n",
      "\n"
     ]
    }
   ],
   "source": [
    "print(classification_report(y_pred, y_test))"
   ]
  },
  {
   "cell_type": "code",
   "execution_count": null,
   "id": "ef6a9505",
   "metadata": {},
   "outputs": [],
   "source": []
  }
 ],
 "metadata": {
  "kernelspec": {
   "display_name": "Python 3 (ipykernel)",
   "language": "python",
   "name": "python3"
  },
  "language_info": {
   "codemirror_mode": {
    "name": "ipython",
    "version": 3
   },
   "file_extension": ".py",
   "mimetype": "text/x-python",
   "name": "python",
   "nbconvert_exporter": "python",
   "pygments_lexer": "ipython3",
   "version": "3.9.13"
  }
 },
 "nbformat": 4,
 "nbformat_minor": 5
}
